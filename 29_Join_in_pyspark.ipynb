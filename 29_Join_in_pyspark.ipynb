{
 "cells": [
  {
   "cell_type": "markdown",
   "metadata": {
    "application/vnd.databricks.v1+cell": {
     "cellMetadata": {},
     "inputWidgets": {},
     "nuid": "1e3fb87f-7953-4369-b376-b83ea71e6ad1",
     "showTitle": false,
     "tableResultSettingsMap": {},
     "title": ""
    }
   },
   "source": [
    "# 29_Join_in_pyspark"
   ]
  },
  {
   "cell_type": "markdown",
   "metadata": {
    "application/vnd.databricks.v1+cell": {
     "cellMetadata": {},
     "inputWidgets": {},
     "nuid": "7d044cbf-e6f2-4353-9a47-12d81f111423",
     "showTitle": false,
     "tableResultSettingsMap": {},
     "title": ""
    }
   },
   "source": [
    "Write a pyspark code perform below function \n",
    "* 52. Get employee name, project name order by firstname from \"EmployeeDetail\" and \"ProjectDetail\" for all employee even they have not assigned project. \n",
    "* 53 Get employee name, project name order by firstname from \"EmployeeDetail\" and \"ProjectDetail\" for all employee if project is not assigned then display \"-No Project Assigned\"."
   ]
  },
  {
   "cell_type": "code",
   "execution_count": 0,
   "metadata": {
    "application/vnd.databricks.v1+cell": {
     "cellMetadata": {
      "byteLimit": 2048000,
      "rowLimit": 10000
     },
     "inputWidgets": {},
     "nuid": "82ae9ba0-ee4a-4b28-8100-9c798e54f724",
     "showTitle": false,
     "tableResultSettingsMap": {},
     "title": ""
    }
   },
   "outputs": [],
   "source": [
    "from pyspark.sql.functions import *\n",
    "from pyspark.sql.types import *\n",
    "from pyspark.sql.window import *"
   ]
  },
  {
   "cell_type": "code",
   "execution_count": 0,
   "metadata": {
    "application/vnd.databricks.v1+cell": {
     "cellMetadata": {
      "byteLimit": 2048000,
      "rowLimit": 10000
     },
     "inputWidgets": {},
     "nuid": "c0ef8899-ffe7-4d31-8a91-553e4e3d5a74",
     "showTitle": false,
     "tableResultSettingsMap": {},
     "title": ""
    }
   },
   "outputs": [],
   "source": [
    "data = [ [1, \"Vikas\", \"Ahlawat\", 600000.0, \"2013-02-15 11:16:28.290\", \"IT\", \"Male\"], [2, \"nikita\", \"Jain\", 530000.0, \"2014-01-09 17:31:07.793\", \"HR\", \"Female\"], [3, \"Ashish\", \"Kumar\", 1000000.0, \"2014-01-09 10:05:07.793\", \"IT\", \"Male\"], [4, \"Nikhil\", \"Sharma\", 480000.0, \"2014-01-09 09:00:07.793\", \"HR\", \"Male\"], [5, \"anish\", \"kadian\", 500000.0, \"2014-01-09 09:31:07.793\", \"Payroll\", \"Male\"], ]"
   ]
  },
  {
   "cell_type": "code",
   "execution_count": 0,
   "metadata": {
    "application/vnd.databricks.v1+cell": {
     "cellMetadata": {
      "byteLimit": 2048000,
      "rowLimit": 10000
     },
     "inputWidgets": {},
     "nuid": "1aaae7fa-ccc4-4731-8356-e6af40b84e9c",
     "showTitle": false,
     "tableResultSettingsMap": {},
     "title": ""
    }
   },
   "outputs": [],
   "source": [
    "schema = StructType([ StructField(\"EmployeeID\", IntegerType(), True), StructField(\"First_Name\", StringType(), True), StructField(\"Last_Name\", StringType(), True), StructField(\"Salary\", DoubleType(), True), StructField(\"Joining_Date\", StringType(), True), StructField(\"Department\", StringType(), True), StructField(\"Gender\", StringType(), True) ])\n",
    "pro_schema = StructType([ StructField(\"Project_DetailID\", IntegerType(), True), StructField(\"Employee_DetailID\", IntegerType(), True), StructField(\"Project_Name\", StringType(), True) ])"
   ]
  },
  {
   "cell_type": "code",
   "execution_count": 0,
   "metadata": {
    "application/vnd.databricks.v1+cell": {
     "cellMetadata": {
      "byteLimit": 2048000,
      "rowLimit": 10000
     },
     "inputWidgets": {},
     "nuid": "5154e685-d2a8-4202-942b-d592e0d3d6de",
     "showTitle": false,
     "tableResultSettingsMap": {},
     "title": ""
    }
   },
   "outputs": [],
   "source": [
    "pro_data = [ (1, 1, \"Task Track\"), (2, 1, \"CLP\"), (3, 1, \"Survey Management\"), (4, 2, \"HR Management\"), (5, 3, \"Task Track\"), (6, 3, \"GRS\"), (7, 3, \"DDS\"), (8, 4, \"HR Management\"), (9, 6, \"GL Management\") ]"
   ]
  },
  {
   "cell_type": "code",
   "execution_count": 0,
   "metadata": {
    "application/vnd.databricks.v1+cell": {
     "cellMetadata": {
      "byteLimit": 2048000,
      "rowLimit": 10000
     },
     "inputWidgets": {},
     "nuid": "501d7445-e110-4db5-a818-2e6532999365",
     "showTitle": false,
     "tableResultSettingsMap": {},
     "title": ""
    }
   },
   "outputs": [
    {
     "output_type": "display_data",
     "data": {
      "text/html": [
       "<style scoped>\n",
       "  .table-result-container {\n",
       "    max-height: 300px;\n",
       "    overflow: auto;\n",
       "  }\n",
       "  table, th, td {\n",
       "    border: 1px solid black;\n",
       "    border-collapse: collapse;\n",
       "  }\n",
       "  th, td {\n",
       "    padding: 5px;\n",
       "  }\n",
       "  th {\n",
       "    text-align: left;\n",
       "  }\n",
       "</style><div class='table-result-container'><table class='table-result'><thead style='background-color: white'><tr><th>EmployeeID</th><th>First_Name</th><th>Last_Name</th><th>Salary</th><th>Joining_Date</th><th>Department</th><th>Gender</th></tr></thead><tbody><tr><td>1</td><td>Vikas</td><td>Ahlawat</td><td>600000.0</td><td>2013-02-15 11:16:28.290</td><td>IT</td><td>Male</td></tr><tr><td>2</td><td>nikita</td><td>Jain</td><td>530000.0</td><td>2014-01-09 17:31:07.793</td><td>HR</td><td>Female</td></tr><tr><td>3</td><td>Ashish</td><td>Kumar</td><td>1000000.0</td><td>2014-01-09 10:05:07.793</td><td>IT</td><td>Male</td></tr><tr><td>4</td><td>Nikhil</td><td>Sharma</td><td>480000.0</td><td>2014-01-09 09:00:07.793</td><td>HR</td><td>Male</td></tr><tr><td>5</td><td>anish</td><td>kadian</td><td>500000.0</td><td>2014-01-09 09:31:07.793</td><td>Payroll</td><td>Male</td></tr></tbody></table></div>"
      ]
     },
     "metadata": {
      "application/vnd.databricks.v1+output": {
       "addedWidgets": {},
       "aggData": [],
       "aggError": "",
       "aggOverflow": false,
       "aggSchema": [],
       "aggSeriesLimitReached": false,
       "aggType": "",
       "arguments": {},
       "columnCustomDisplayInfos": {},
       "data": [
        [
         1,
         "Vikas",
         "Ahlawat",
         600000.0,
         "2013-02-15 11:16:28.290",
         "IT",
         "Male"
        ],
        [
         2,
         "nikita",
         "Jain",
         530000.0,
         "2014-01-09 17:31:07.793",
         "HR",
         "Female"
        ],
        [
         3,
         "Ashish",
         "Kumar",
         1000000.0,
         "2014-01-09 10:05:07.793",
         "IT",
         "Male"
        ],
        [
         4,
         "Nikhil",
         "Sharma",
         480000.0,
         "2014-01-09 09:00:07.793",
         "HR",
         "Male"
        ],
        [
         5,
         "anish",
         "kadian",
         500000.0,
         "2014-01-09 09:31:07.793",
         "Payroll",
         "Male"
        ]
       ],
       "datasetInfos": [],
       "dbfsResultPath": null,
       "isJsonSchema": true,
       "metadata": {},
       "overflow": false,
       "plotOptions": {
        "customPlotOptions": {},
        "displayType": "table",
        "pivotAggregation": null,
        "pivotColumns": null,
        "xColumns": null,
        "yColumns": null
       },
       "removedWidgets": [],
       "schema": [
        {
         "metadata": "{}",
         "name": "EmployeeID",
         "type": "\"integer\""
        },
        {
         "metadata": "{}",
         "name": "First_Name",
         "type": "\"string\""
        },
        {
         "metadata": "{}",
         "name": "Last_Name",
         "type": "\"string\""
        },
        {
         "metadata": "{}",
         "name": "Salary",
         "type": "\"double\""
        },
        {
         "metadata": "{}",
         "name": "Joining_Date",
         "type": "\"string\""
        },
        {
         "metadata": "{}",
         "name": "Department",
         "type": "\"string\""
        },
        {
         "metadata": "{}",
         "name": "Gender",
         "type": "\"string\""
        }
       ],
       "type": "table"
      }
     },
     "output_type": "display_data"
    },
    {
     "output_type": "display_data",
     "data": {
      "text/html": [
       "<style scoped>\n",
       "  .table-result-container {\n",
       "    max-height: 300px;\n",
       "    overflow: auto;\n",
       "  }\n",
       "  table, th, td {\n",
       "    border: 1px solid black;\n",
       "    border-collapse: collapse;\n",
       "  }\n",
       "  th, td {\n",
       "    padding: 5px;\n",
       "  }\n",
       "  th {\n",
       "    text-align: left;\n",
       "  }\n",
       "</style><div class='table-result-container'><table class='table-result'><thead style='background-color: white'><tr><th>Project_DetailID</th><th>Employee_DetailID</th><th>Project_Name</th></tr></thead><tbody><tr><td>1</td><td>1</td><td>Task Track</td></tr><tr><td>2</td><td>1</td><td>CLP</td></tr><tr><td>3</td><td>1</td><td>Survey Management</td></tr><tr><td>4</td><td>2</td><td>HR Management</td></tr><tr><td>5</td><td>3</td><td>Task Track</td></tr><tr><td>6</td><td>3</td><td>GRS</td></tr><tr><td>7</td><td>3</td><td>DDS</td></tr><tr><td>8</td><td>4</td><td>HR Management</td></tr><tr><td>9</td><td>6</td><td>GL Management</td></tr></tbody></table></div>"
      ]
     },
     "metadata": {
      "application/vnd.databricks.v1+output": {
       "addedWidgets": {},
       "aggData": [],
       "aggError": "",
       "aggOverflow": false,
       "aggSchema": [],
       "aggSeriesLimitReached": false,
       "aggType": "",
       "arguments": {},
       "columnCustomDisplayInfos": {},
       "data": [
        [
         1,
         1,
         "Task Track"
        ],
        [
         2,
         1,
         "CLP"
        ],
        [
         3,
         1,
         "Survey Management"
        ],
        [
         4,
         2,
         "HR Management"
        ],
        [
         5,
         3,
         "Task Track"
        ],
        [
         6,
         3,
         "GRS"
        ],
        [
         7,
         3,
         "DDS"
        ],
        [
         8,
         4,
         "HR Management"
        ],
        [
         9,
         6,
         "GL Management"
        ]
       ],
       "datasetInfos": [],
       "dbfsResultPath": null,
       "isJsonSchema": true,
       "metadata": {},
       "overflow": false,
       "plotOptions": {
        "customPlotOptions": {},
        "displayType": "table",
        "pivotAggregation": null,
        "pivotColumns": null,
        "xColumns": null,
        "yColumns": null
       },
       "removedWidgets": [],
       "schema": [
        {
         "metadata": "{}",
         "name": "Project_DetailID",
         "type": "\"integer\""
        },
        {
         "metadata": "{}",
         "name": "Employee_DetailID",
         "type": "\"integer\""
        },
        {
         "metadata": "{}",
         "name": "Project_Name",
         "type": "\"string\""
        }
       ],
       "type": "table"
      }
     },
     "output_type": "display_data"
    }
   ],
   "source": [
    "df_emp = spark.createDataFrame(data, schema)\n",
    "df_pro = spark.createDataFrame(pro_data, pro_schema)\n",
    "\n",
    "df_emp.display()\n",
    "df_pro.display()"
   ]
  },
  {
   "cell_type": "markdown",
   "metadata": {
    "application/vnd.databricks.v1+cell": {
     "cellMetadata": {},
     "inputWidgets": {},
     "nuid": "a1c2a42d-c59b-4a36-85d8-eca00b38cd5f",
     "showTitle": false,
     "tableResultSettingsMap": {},
     "title": ""
    }
   },
   "source": [
    "### Get employee name, project name order by firstname from \"EmployeeDetail\" and \"ProjectDetail\" for all employee even they have not assigned project."
   ]
  },
  {
   "cell_type": "code",
   "execution_count": 0,
   "metadata": {
    "application/vnd.databricks.v1+cell": {
     "cellMetadata": {
      "byteLimit": 2048000,
      "rowLimit": 10000
     },
     "inputWidgets": {},
     "nuid": "f423d932-9794-447d-abad-ff6648b9aa65",
     "showTitle": false,
     "tableResultSettingsMap": {},
     "title": ""
    }
   },
   "outputs": [
    {
     "output_type": "display_data",
     "data": {
      "text/html": [
       "<style scoped>\n",
       "  .table-result-container {\n",
       "    max-height: 300px;\n",
       "    overflow: auto;\n",
       "  }\n",
       "  table, th, td {\n",
       "    border: 1px solid black;\n",
       "    border-collapse: collapse;\n",
       "  }\n",
       "  th, td {\n",
       "    padding: 5px;\n",
       "  }\n",
       "  th {\n",
       "    text-align: left;\n",
       "  }\n",
       "</style><div class='table-result-container'><table class='table-result'><thead style='background-color: white'><tr><th>First_Name</th><th>Project_Name</th></tr></thead><tbody><tr><td>anish</td><td>null</td></tr><tr><td>Ashish</td><td>Task Track</td></tr><tr><td>Ashish</td><td>GRS</td></tr><tr><td>Ashish</td><td>DDS</td></tr><tr><td>Nikhil</td><td>HR Management</td></tr><tr><td>nikita</td><td>HR Management</td></tr><tr><td>Vikas</td><td>Task Track</td></tr><tr><td>Vikas</td><td>CLP</td></tr><tr><td>Vikas</td><td>Survey Management</td></tr></tbody></table></div>"
      ]
     },
     "metadata": {
      "application/vnd.databricks.v1+output": {
       "addedWidgets": {},
       "aggData": [],
       "aggError": "",
       "aggOverflow": false,
       "aggSchema": [],
       "aggSeriesLimitReached": false,
       "aggType": "",
       "arguments": {},
       "columnCustomDisplayInfos": {},
       "data": [
        [
         "anish",
         null
        ],
        [
         "Ashish",
         "Task Track"
        ],
        [
         "Ashish",
         "GRS"
        ],
        [
         "Ashish",
         "DDS"
        ],
        [
         "Nikhil",
         "HR Management"
        ],
        [
         "nikita",
         "HR Management"
        ],
        [
         "Vikas",
         "Task Track"
        ],
        [
         "Vikas",
         "CLP"
        ],
        [
         "Vikas",
         "Survey Management"
        ]
       ],
       "datasetInfos": [],
       "dbfsResultPath": null,
       "isJsonSchema": true,
       "metadata": {},
       "overflow": false,
       "plotOptions": {
        "customPlotOptions": {},
        "displayType": "table",
        "pivotAggregation": null,
        "pivotColumns": null,
        "xColumns": null,
        "yColumns": null
       },
       "removedWidgets": [],
       "schema": [
        {
         "metadata": "{}",
         "name": "First_Name",
         "type": "\"string\""
        },
        {
         "metadata": "{}",
         "name": "Project_Name",
         "type": "\"string\""
        }
       ],
       "type": "table"
      }
     },
     "output_type": "display_data"
    }
   ],
   "source": [
    "(\n",
    "    df_emp.join(\n",
    "        df_pro\n",
    "        , df_emp['EmployeeID'] == df_pro['Employee_DetailID']\n",
    "        , 'left'\n",
    "    )\n",
    "    .select('First_Name', 'Project_Name')\n",
    "    .orderBy(lower(col('First_Name')).asc())\n",
    "    .display()\n",
    ")"
   ]
  },
  {
   "cell_type": "markdown",
   "metadata": {
    "application/vnd.databricks.v1+cell": {
     "cellMetadata": {},
     "inputWidgets": {},
     "nuid": "09e46987-ddf4-4217-8894-88cc592f93ec",
     "showTitle": false,
     "tableResultSettingsMap": {},
     "title": ""
    }
   },
   "source": [
    "### Get employee name, project name order by firstname from \"EmployeeDetail\" and \"ProjectDetail\" for all employee if project is not assigned then display \"-No Project Assigned\"."
   ]
  },
  {
   "cell_type": "code",
   "execution_count": 0,
   "metadata": {
    "application/vnd.databricks.v1+cell": {
     "cellMetadata": {
      "byteLimit": 2048000,
      "rowLimit": 10000
     },
     "inputWidgets": {},
     "nuid": "b1fd65a8-ed5d-4b5e-9267-1fbfbe98845e",
     "showTitle": false,
     "tableResultSettingsMap": {},
     "title": ""
    }
   },
   "outputs": [
    {
     "output_type": "display_data",
     "data": {
      "text/html": [
       "<style scoped>\n",
       "  .table-result-container {\n",
       "    max-height: 300px;\n",
       "    overflow: auto;\n",
       "  }\n",
       "  table, th, td {\n",
       "    border: 1px solid black;\n",
       "    border-collapse: collapse;\n",
       "  }\n",
       "  th, td {\n",
       "    padding: 5px;\n",
       "  }\n",
       "  th {\n",
       "    text-align: left;\n",
       "  }\n",
       "</style><div class='table-result-container'><table class='table-result'><thead style='background-color: white'><tr><th>First_Name</th><th>project_name</th></tr></thead><tbody><tr><td>anish</td><td>Not assigned</td></tr><tr><td>Ashish</td><td>Task Track</td></tr><tr><td>Ashish</td><td>GRS</td></tr><tr><td>Ashish</td><td>DDS</td></tr><tr><td>Nikhil</td><td>HR Management</td></tr><tr><td>nikita</td><td>HR Management</td></tr><tr><td>Vikas</td><td>Task Track</td></tr><tr><td>Vikas</td><td>CLP</td></tr><tr><td>Vikas</td><td>Survey Management</td></tr></tbody></table></div>"
      ]
     },
     "metadata": {
      "application/vnd.databricks.v1+output": {
       "addedWidgets": {},
       "aggData": [],
       "aggError": "",
       "aggOverflow": false,
       "aggSchema": [],
       "aggSeriesLimitReached": false,
       "aggType": "",
       "arguments": {},
       "columnCustomDisplayInfos": {},
       "data": [
        [
         "anish",
         "Not assigned"
        ],
        [
         "Ashish",
         "Task Track"
        ],
        [
         "Ashish",
         "GRS"
        ],
        [
         "Ashish",
         "DDS"
        ],
        [
         "Nikhil",
         "HR Management"
        ],
        [
         "nikita",
         "HR Management"
        ],
        [
         "Vikas",
         "Task Track"
        ],
        [
         "Vikas",
         "CLP"
        ],
        [
         "Vikas",
         "Survey Management"
        ]
       ],
       "datasetInfos": [],
       "dbfsResultPath": null,
       "isJsonSchema": true,
       "metadata": {},
       "overflow": false,
       "plotOptions": {
        "customPlotOptions": {},
        "displayType": "table",
        "pivotAggregation": null,
        "pivotColumns": null,
        "xColumns": null,
        "yColumns": null
       },
       "removedWidgets": [],
       "schema": [
        {
         "metadata": "{}",
         "name": "First_Name",
         "type": "\"string\""
        },
        {
         "metadata": "{}",
         "name": "project_name",
         "type": "\"string\""
        }
       ],
       "type": "table"
      }
     },
     "output_type": "display_data"
    }
   ],
   "source": [
    "(\n",
    "    df_emp.join(\n",
    "        df_pro\n",
    "        , df_emp['EmployeeID'] == df_pro['Employee_DetailID']\n",
    "        , 'left'\n",
    "    )\n",
    "    .select('First_Name', 'Project_Name')\n",
    "    .withColumn(\n",
    "        'project_name'\n",
    "        , coalesce( (col('Project_Name')), lit('Not assigned'))\n",
    "    )\n",
    "    .orderBy(lower(col('First_Name')).asc())\n",
    "    .display()\n",
    ")"
   ]
  },
  {
   "cell_type": "code",
   "execution_count": 0,
   "metadata": {
    "application/vnd.databricks.v1+cell": {
     "cellMetadata": {},
     "inputWidgets": {},
     "nuid": "bd41b4c5-cfc9-4291-9744-3fbefc2cffef",
     "showTitle": false,
     "tableResultSettingsMap": {},
     "title": ""
    }
   },
   "outputs": [],
   "source": []
  }
 ],
 "metadata": {
  "application/vnd.databricks.v1+notebook": {
   "computePreferences": null,
   "dashboards": [],
   "environmentMetadata": {
    "base_environment": "",
    "client": "1"
   },
   "language": "python",
   "notebookMetadata": {
    "pythonIndentUnit": 4
   },
   "notebookName": "29_Join_in_pyspark",
   "widgets": {}
  }
 },
 "nbformat": 4,
 "nbformat_minor": 0
}
