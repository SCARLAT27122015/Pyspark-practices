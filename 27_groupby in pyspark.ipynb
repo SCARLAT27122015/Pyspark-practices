{
 "cells": [
  {
   "cell_type": "markdown",
   "metadata": {
    "application/vnd.databricks.v1+cell": {
     "cellMetadata": {},
     "inputWidgets": {},
     "nuid": "85b043eb-b3d1-428e-8e2a-68059a5b41ea",
     "showTitle": false,
     "tableResultSettingsMap": {},
     "title": ""
    }
   },
   "source": [
    "# 27_groupby in pyspark"
   ]
  },
  {
   "cell_type": "markdown",
   "metadata": {
    "application/vnd.databricks.v1+cell": {
     "cellMetadata": {},
     "inputWidgets": {},
     "nuid": "bbbf77e5-e36f-42d1-b8f4-43272d7a64e0",
     "showTitle": false,
     "tableResultSettingsMap": {},
     "title": ""
    }
   },
   "source": [
    "Write a pyspark code perform below function \n",
    "* 46. Get department wise average salary from \"EmployeeDetail\" table order by salary ascending \n",
    "* 47. Get department wise maximum salary from \"EmployeeDetail\" table order by salary ascending \n",
    "* 48. Get department wise minimum salary from \"EmployeeDetail\" table order by salary ascending"
   ]
  },
  {
   "cell_type": "code",
   "execution_count": 0,
   "metadata": {
    "application/vnd.databricks.v1+cell": {
     "cellMetadata": {
      "byteLimit": 2048000,
      "rowLimit": 10000
     },
     "inputWidgets": {},
     "nuid": "0b16f3f0-a371-49bf-8e87-6e14e2555723",
     "showTitle": false,
     "tableResultSettingsMap": {},
     "title": ""
    }
   },
   "outputs": [],
   "source": [
    "from pyspark.sql.functions import *\n",
    "from pyspark.sql.types import *\n",
    "from pyspark.sql.window import *"
   ]
  },
  {
   "cell_type": "code",
   "execution_count": 0,
   "metadata": {
    "application/vnd.databricks.v1+cell": {
     "cellMetadata": {
      "byteLimit": 2048000,
      "rowLimit": 10000
     },
     "inputWidgets": {},
     "nuid": "5a7d7efc-a23b-46ac-b000-188809d3246b",
     "showTitle": false,
     "tableResultSettingsMap": {},
     "title": ""
    }
   },
   "outputs": [],
   "source": [
    "data = [ [1, \"Vikas\", \"Ahlawat\", 600000.0, \"2013-02-15 11:16:28.290\", \"IT\", \"Male\"], [2, \"nikita\", \"Jain\", 530000.0, \"2014-01-09 17:31:07.793\", \"HR\", \"Female\"], [3, \"Ashish\", \"Kumar\", 1000000.0, \"2014-01-09 10:05:07.793\", \"IT\", \"Male\"], [4, \"Nikhil\", \"Sharma\", 480000.0, \"2014-01-09 09:00:07.793\", \"HR\", \"Male\"], [5, \"anish\", \"kadian\", 500000.0, \"2014-01-09 09:31:07.793\", \"Payroll\", \"Male\"], ]\n",
    "\n",
    "schema = StructType([ StructField(\"EmployeeID\", IntegerType(), True), StructField(\"First_Name\", StringType(), True), StructField(\"Last_Name\", StringType(), True), StructField(\"Salary\", DoubleType(), True), StructField(\"Joining_Date\", StringType(), True), StructField(\"Department\", StringType(), True), StructField(\"Gender\", StringType(), True) ])"
   ]
  },
  {
   "cell_type": "code",
   "execution_count": 0,
   "metadata": {
    "application/vnd.databricks.v1+cell": {
     "cellMetadata": {
      "byteLimit": 2048000,
      "rowLimit": 10000
     },
     "inputWidgets": {},
     "nuid": "1e8e5714-be9c-40ee-b480-378b128b6773",
     "showTitle": false,
     "tableResultSettingsMap": {},
     "title": ""
    }
   },
   "outputs": [
    {
     "output_type": "display_data",
     "data": {
      "text/html": [
       "<style scoped>\n",
       "  .table-result-container {\n",
       "    max-height: 300px;\n",
       "    overflow: auto;\n",
       "  }\n",
       "  table, th, td {\n",
       "    border: 1px solid black;\n",
       "    border-collapse: collapse;\n",
       "  }\n",
       "  th, td {\n",
       "    padding: 5px;\n",
       "  }\n",
       "  th {\n",
       "    text-align: left;\n",
       "  }\n",
       "</style><div class='table-result-container'><table class='table-result'><thead style='background-color: white'><tr><th>EmployeeID</th><th>First_Name</th><th>Last_Name</th><th>Salary</th><th>Joining_Date</th><th>Department</th><th>Gender</th></tr></thead><tbody><tr><td>1</td><td>Vikas</td><td>Ahlawat</td><td>600000.0</td><td>2013-02-15 11:16:28.290</td><td>IT</td><td>Male</td></tr><tr><td>2</td><td>nikita</td><td>Jain</td><td>530000.0</td><td>2014-01-09 17:31:07.793</td><td>HR</td><td>Female</td></tr><tr><td>3</td><td>Ashish</td><td>Kumar</td><td>1000000.0</td><td>2014-01-09 10:05:07.793</td><td>IT</td><td>Male</td></tr><tr><td>4</td><td>Nikhil</td><td>Sharma</td><td>480000.0</td><td>2014-01-09 09:00:07.793</td><td>HR</td><td>Male</td></tr><tr><td>5</td><td>anish</td><td>kadian</td><td>500000.0</td><td>2014-01-09 09:31:07.793</td><td>Payroll</td><td>Male</td></tr></tbody></table></div>"
      ]
     },
     "metadata": {
      "application/vnd.databricks.v1+output": {
       "addedWidgets": {},
       "aggData": [],
       "aggError": "",
       "aggOverflow": false,
       "aggSchema": [],
       "aggSeriesLimitReached": false,
       "aggType": "",
       "arguments": {},
       "columnCustomDisplayInfos": {},
       "data": [
        [
         1,
         "Vikas",
         "Ahlawat",
         600000.0,
         "2013-02-15 11:16:28.290",
         "IT",
         "Male"
        ],
        [
         2,
         "nikita",
         "Jain",
         530000.0,
         "2014-01-09 17:31:07.793",
         "HR",
         "Female"
        ],
        [
         3,
         "Ashish",
         "Kumar",
         1000000.0,
         "2014-01-09 10:05:07.793",
         "IT",
         "Male"
        ],
        [
         4,
         "Nikhil",
         "Sharma",
         480000.0,
         "2014-01-09 09:00:07.793",
         "HR",
         "Male"
        ],
        [
         5,
         "anish",
         "kadian",
         500000.0,
         "2014-01-09 09:31:07.793",
         "Payroll",
         "Male"
        ]
       ],
       "datasetInfos": [],
       "dbfsResultPath": null,
       "isJsonSchema": true,
       "metadata": {},
       "overflow": false,
       "plotOptions": {
        "customPlotOptions": {},
        "displayType": "table",
        "pivotAggregation": null,
        "pivotColumns": null,
        "xColumns": null,
        "yColumns": null
       },
       "removedWidgets": [],
       "schema": [
        {
         "metadata": "{}",
         "name": "EmployeeID",
         "type": "\"integer\""
        },
        {
         "metadata": "{}",
         "name": "First_Name",
         "type": "\"string\""
        },
        {
         "metadata": "{}",
         "name": "Last_Name",
         "type": "\"string\""
        },
        {
         "metadata": "{}",
         "name": "Salary",
         "type": "\"double\""
        },
        {
         "metadata": "{}",
         "name": "Joining_Date",
         "type": "\"string\""
        },
        {
         "metadata": "{}",
         "name": "Department",
         "type": "\"string\""
        },
        {
         "metadata": "{}",
         "name": "Gender",
         "type": "\"string\""
        }
       ],
       "type": "table"
      }
     },
     "output_type": "display_data"
    }
   ],
   "source": [
    "df_emp = spark.createDataFrame(data, schema)\n",
    "df_emp.display()"
   ]
  },
  {
   "cell_type": "code",
   "execution_count": 0,
   "metadata": {
    "application/vnd.databricks.v1+cell": {
     "cellMetadata": {
      "byteLimit": 2048000,
      "rowLimit": 10000
     },
     "inputWidgets": {},
     "nuid": "aa6f419a-a5d4-44b5-ac18-95a5cb679cc9",
     "showTitle": false,
     "tableResultSettingsMap": {},
     "title": ""
    }
   },
   "outputs": [
    {
     "output_type": "display_data",
     "data": {
      "text/html": [
       "<style scoped>\n",
       "  .table-result-container {\n",
       "    max-height: 300px;\n",
       "    overflow: auto;\n",
       "  }\n",
       "  table, th, td {\n",
       "    border: 1px solid black;\n",
       "    border-collapse: collapse;\n",
       "  }\n",
       "  th, td {\n",
       "    padding: 5px;\n",
       "  }\n",
       "  th {\n",
       "    text-align: left;\n",
       "  }\n",
       "</style><div class='table-result-container'><table class='table-result'><thead style='background-color: white'><tr><th>Department</th><th>avg_salary</th><th>max_salary</th><th>min_salary</th></tr></thead><tbody><tr><td>IT</td><td>800000.0</td><td>1000000.0</td><td>600000.0</td></tr><tr><td>HR</td><td>505000.0</td><td>530000.0</td><td>480000.0</td></tr><tr><td>Payroll</td><td>500000.0</td><td>500000.0</td><td>500000.0</td></tr></tbody></table></div>"
      ]
     },
     "metadata": {
      "application/vnd.databricks.v1+output": {
       "addedWidgets": {},
       "aggData": [],
       "aggError": "",
       "aggOverflow": false,
       "aggSchema": [],
       "aggSeriesLimitReached": false,
       "aggType": "",
       "arguments": {},
       "columnCustomDisplayInfos": {},
       "data": [
        [
         "IT",
         800000.0,
         1000000.0,
         600000.0
        ],
        [
         "HR",
         505000.0,
         530000.0,
         480000.0
        ],
        [
         "Payroll",
         500000.0,
         500000.0,
         500000.0
        ]
       ],
       "datasetInfos": [],
       "dbfsResultPath": null,
       "isJsonSchema": true,
       "metadata": {},
       "overflow": false,
       "plotOptions": {
        "customPlotOptions": {},
        "displayType": "table",
        "pivotAggregation": null,
        "pivotColumns": null,
        "xColumns": null,
        "yColumns": null
       },
       "removedWidgets": [],
       "schema": [
        {
         "metadata": "{}",
         "name": "Department",
         "type": "\"string\""
        },
        {
         "metadata": "{}",
         "name": "avg_salary",
         "type": "\"double\""
        },
        {
         "metadata": "{}",
         "name": "max_salary",
         "type": "\"double\""
        },
        {
         "metadata": "{}",
         "name": "min_salary",
         "type": "\"double\""
        }
       ],
       "type": "table"
      }
     },
     "output_type": "display_data"
    }
   ],
   "source": [
    "(\n",
    "  df_emp.groupBy(col('Department'))\n",
    "        .agg(\n",
    "          avg(col('Salary')).alias('avg_salary')\n",
    "          , max(col('Salary')).alias('max_salary')\n",
    "          , min(col('Salary')).alias('min_salary')\n",
    "        )\n",
    "        .display()\n",
    ")"
   ]
  },
  {
   "cell_type": "code",
   "execution_count": 0,
   "metadata": {
    "application/vnd.databricks.v1+cell": {
     "cellMetadata": {},
     "inputWidgets": {},
     "nuid": "f819c83b-73fb-4f9b-82b4-9e045ba188dd",
     "showTitle": false,
     "tableResultSettingsMap": {},
     "title": ""
    }
   },
   "outputs": [],
   "source": []
  }
 ],
 "metadata": {
  "application/vnd.databricks.v1+notebook": {
   "computePreferences": null,
   "dashboards": [],
   "environmentMetadata": {
    "base_environment": "",
    "client": "1"
   },
   "language": "python",
   "notebookMetadata": {
    "pythonIndentUnit": 4
   },
   "notebookName": "27_groupby in pyspark",
   "widgets": {}
  }
 },
 "nbformat": 4,
 "nbformat_minor": 0
}
