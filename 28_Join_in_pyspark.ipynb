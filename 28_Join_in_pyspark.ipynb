{
 "cells": [
  {
   "cell_type": "markdown",
   "metadata": {
    "application/vnd.databricks.v1+cell": {
     "cellMetadata": {},
     "inputWidgets": {},
     "nuid": "b9682c34-bf9e-4d8b-91e1-0339e7cbe3ba",
     "showTitle": false,
     "tableResultSettingsMap": {},
     "title": ""
    }
   },
   "source": [
    "# 28_Join_in_pyspark"
   ]
  },
  {
   "cell_type": "markdown",
   "metadata": {
    "application/vnd.databricks.v1+cell": {
     "cellMetadata": {},
     "inputWidgets": {},
     "nuid": "fef88685-6420-419e-afe9-bbffb2f7c261",
     "showTitle": false,
     "tableResultSettingsMap": {},
     "title": ""
    }
   },
   "source": [
    "Write a pyspark code perform below function \n",
    "* Write down the query to fetch Project name assign to more than one Employee \n",
    "* Get employee name, project name order by firstname from \"EmployeeDetail\" and\"ProjectDetail\" for those employee which have assigned project already."
   ]
  },
  {
   "cell_type": "code",
   "execution_count": 0,
   "metadata": {
    "application/vnd.databricks.v1+cell": {
     "cellMetadata": {
      "byteLimit": 2048000,
      "rowLimit": 10000
     },
     "inputWidgets": {},
     "nuid": "26298b2b-fef9-4a28-8366-b25153afa23b",
     "showTitle": false,
     "tableResultSettingsMap": {},
     "title": ""
    }
   },
   "outputs": [],
   "source": [
    "from pyspark.sql.functions import *\n",
    "from pyspark.sql.types import *\n",
    "from pyspark.sql.window import *\n"
   ]
  },
  {
   "cell_type": "code",
   "execution_count": 0,
   "metadata": {
    "application/vnd.databricks.v1+cell": {
     "cellMetadata": {
      "byteLimit": 2048000,
      "rowLimit": 10000
     },
     "inputWidgets": {},
     "nuid": "1f2564e1-d784-4f16-b578-e6a6644c6b64",
     "showTitle": false,
     "tableResultSettingsMap": {},
     "title": ""
    }
   },
   "outputs": [],
   "source": [
    "data = [ [1, \"Vikas\", \"Ahlawat\", 600000.0, \"2013-02-15 11:16:28.290\", \"IT\", \"Male\"], [2, \"nikita\", \"Jain\", 530000.0, \"2014-01-09 17:31:07.793\", \"HR\", \"Female\"], [3, \"Ashish\", \"Kumar\", 1000000.0, \"2014-01-09 10:05:07.793\", \"IT\", \"Male\"], [4, \"Nikhil\", \"Sharma\", 480000.0, \"2014-01-09 09:00:07.793\", \"HR\", \"Male\"], [5, \"anish\", \"kadian\", 500000.0, \"2014-01-09 09:31:07.793\", \"Payroll\", \"Male\"], ]\n",
    "\n",
    "schema = StructType([ StructField(\"EmployeeID\", IntegerType(), True), StructField(\"First_Name\", StringType(), True), StructField(\"Last_Name\", StringType(), True), StructField(\"Salary\", DoubleType(), True), StructField(\"Joining_Date\", StringType(), True), StructField(\"Department\", StringType(), True), StructField(\"Gender\", StringType(), True) ])\n",
    "\n",
    "pro_schema = StructType([ StructField(\"Project_DetailID\", IntegerType(), True), StructField(\"Employee_DetailID\", IntegerType(), True), StructField(\"Project_Name\", StringType(), True) ])\n",
    "\n",
    "\n",
    "pro_data = [ (1, 1, \"Task Track\"), (2, 1, \"CLP\"), (3, 1, \"Survey Management\"), (4, 2, \"HR Management\"), (5, 3, \"Task Track\"), (6, 3, \"GRS\"), (7, 3, \"DDS\"), (8, 4, \"HR Management\"), (9, 6, \"GL Management\") ]"
   ]
  },
  {
   "cell_type": "code",
   "execution_count": 0,
   "metadata": {
    "application/vnd.databricks.v1+cell": {
     "cellMetadata": {
      "byteLimit": 2048000,
      "rowLimit": 10000
     },
     "inputWidgets": {},
     "nuid": "2a40ff0c-88d4-4dcd-abd6-71d61d50a985",
     "showTitle": false,
     "tableResultSettingsMap": {},
     "title": ""
    }
   },
   "outputs": [
    {
     "output_type": "display_data",
     "data": {
      "text/html": [
       "<style scoped>\n",
       "  .table-result-container {\n",
       "    max-height: 300px;\n",
       "    overflow: auto;\n",
       "  }\n",
       "  table, th, td {\n",
       "    border: 1px solid black;\n",
       "    border-collapse: collapse;\n",
       "  }\n",
       "  th, td {\n",
       "    padding: 5px;\n",
       "  }\n",
       "  th {\n",
       "    text-align: left;\n",
       "  }\n",
       "</style><div class='table-result-container'><table class='table-result'><thead style='background-color: white'><tr><th>EmployeeID</th><th>First_Name</th><th>Last_Name</th><th>Salary</th><th>Joining_Date</th><th>Department</th><th>Gender</th></tr></thead><tbody><tr><td>1</td><td>Vikas</td><td>Ahlawat</td><td>600000.0</td><td>2013-02-15 11:16:28.290</td><td>IT</td><td>Male</td></tr><tr><td>2</td><td>nikita</td><td>Jain</td><td>530000.0</td><td>2014-01-09 17:31:07.793</td><td>HR</td><td>Female</td></tr><tr><td>3</td><td>Ashish</td><td>Kumar</td><td>1000000.0</td><td>2014-01-09 10:05:07.793</td><td>IT</td><td>Male</td></tr><tr><td>4</td><td>Nikhil</td><td>Sharma</td><td>480000.0</td><td>2014-01-09 09:00:07.793</td><td>HR</td><td>Male</td></tr><tr><td>5</td><td>anish</td><td>kadian</td><td>500000.0</td><td>2014-01-09 09:31:07.793</td><td>Payroll</td><td>Male</td></tr></tbody></table></div>"
      ]
     },
     "metadata": {
      "application/vnd.databricks.v1+output": {
       "addedWidgets": {},
       "aggData": [],
       "aggError": "",
       "aggOverflow": false,
       "aggSchema": [],
       "aggSeriesLimitReached": false,
       "aggType": "",
       "arguments": {},
       "columnCustomDisplayInfos": {},
       "data": [
        [
         1,
         "Vikas",
         "Ahlawat",
         600000.0,
         "2013-02-15 11:16:28.290",
         "IT",
         "Male"
        ],
        [
         2,
         "nikita",
         "Jain",
         530000.0,
         "2014-01-09 17:31:07.793",
         "HR",
         "Female"
        ],
        [
         3,
         "Ashish",
         "Kumar",
         1000000.0,
         "2014-01-09 10:05:07.793",
         "IT",
         "Male"
        ],
        [
         4,
         "Nikhil",
         "Sharma",
         480000.0,
         "2014-01-09 09:00:07.793",
         "HR",
         "Male"
        ],
        [
         5,
         "anish",
         "kadian",
         500000.0,
         "2014-01-09 09:31:07.793",
         "Payroll",
         "Male"
        ]
       ],
       "datasetInfos": [],
       "dbfsResultPath": null,
       "isJsonSchema": true,
       "metadata": {},
       "overflow": false,
       "plotOptions": {
        "customPlotOptions": {},
        "displayType": "table",
        "pivotAggregation": null,
        "pivotColumns": null,
        "xColumns": null,
        "yColumns": null
       },
       "removedWidgets": [],
       "schema": [
        {
         "metadata": "{}",
         "name": "EmployeeID",
         "type": "\"integer\""
        },
        {
         "metadata": "{}",
         "name": "First_Name",
         "type": "\"string\""
        },
        {
         "metadata": "{}",
         "name": "Last_Name",
         "type": "\"string\""
        },
        {
         "metadata": "{}",
         "name": "Salary",
         "type": "\"double\""
        },
        {
         "metadata": "{}",
         "name": "Joining_Date",
         "type": "\"string\""
        },
        {
         "metadata": "{}",
         "name": "Department",
         "type": "\"string\""
        },
        {
         "metadata": "{}",
         "name": "Gender",
         "type": "\"string\""
        }
       ],
       "type": "table"
      }
     },
     "output_type": "display_data"
    }
   ],
   "source": [
    "df_emp = spark.createDataFrame(data, schema)\n",
    "df_emp.display()"
   ]
  },
  {
   "cell_type": "code",
   "execution_count": 0,
   "metadata": {
    "application/vnd.databricks.v1+cell": {
     "cellMetadata": {
      "byteLimit": 2048000,
      "rowLimit": 10000
     },
     "inputWidgets": {},
     "nuid": "65a47f56-ebad-4fd9-a1aa-9b3f6fa244ab",
     "showTitle": false,
     "tableResultSettingsMap": {},
     "title": ""
    }
   },
   "outputs": [
    {
     "output_type": "display_data",
     "data": {
      "text/html": [
       "<style scoped>\n",
       "  .table-result-container {\n",
       "    max-height: 300px;\n",
       "    overflow: auto;\n",
       "  }\n",
       "  table, th, td {\n",
       "    border: 1px solid black;\n",
       "    border-collapse: collapse;\n",
       "  }\n",
       "  th, td {\n",
       "    padding: 5px;\n",
       "  }\n",
       "  th {\n",
       "    text-align: left;\n",
       "  }\n",
       "</style><div class='table-result-container'><table class='table-result'><thead style='background-color: white'><tr><th>Project_DetailID</th><th>Employee_DetailID</th><th>Project_Name</th></tr></thead><tbody><tr><td>1</td><td>1</td><td>Task Track</td></tr><tr><td>2</td><td>1</td><td>CLP</td></tr><tr><td>3</td><td>1</td><td>Survey Management</td></tr><tr><td>4</td><td>2</td><td>HR Management</td></tr><tr><td>5</td><td>3</td><td>Task Track</td></tr><tr><td>6</td><td>3</td><td>GRS</td></tr><tr><td>7</td><td>3</td><td>DDS</td></tr><tr><td>8</td><td>4</td><td>HR Management</td></tr><tr><td>9</td><td>6</td><td>GL Management</td></tr></tbody></table></div>"
      ]
     },
     "metadata": {
      "application/vnd.databricks.v1+output": {
       "addedWidgets": {},
       "aggData": [],
       "aggError": "",
       "aggOverflow": false,
       "aggSchema": [],
       "aggSeriesLimitReached": false,
       "aggType": "",
       "arguments": {},
       "columnCustomDisplayInfos": {},
       "data": [
        [
         1,
         1,
         "Task Track"
        ],
        [
         2,
         1,
         "CLP"
        ],
        [
         3,
         1,
         "Survey Management"
        ],
        [
         4,
         2,
         "HR Management"
        ],
        [
         5,
         3,
         "Task Track"
        ],
        [
         6,
         3,
         "GRS"
        ],
        [
         7,
         3,
         "DDS"
        ],
        [
         8,
         4,
         "HR Management"
        ],
        [
         9,
         6,
         "GL Management"
        ]
       ],
       "datasetInfos": [],
       "dbfsResultPath": null,
       "isJsonSchema": true,
       "metadata": {},
       "overflow": false,
       "plotOptions": {
        "customPlotOptions": {},
        "displayType": "table",
        "pivotAggregation": null,
        "pivotColumns": null,
        "xColumns": null,
        "yColumns": null
       },
       "removedWidgets": [],
       "schema": [
        {
         "metadata": "{}",
         "name": "Project_DetailID",
         "type": "\"integer\""
        },
        {
         "metadata": "{}",
         "name": "Employee_DetailID",
         "type": "\"integer\""
        },
        {
         "metadata": "{}",
         "name": "Project_Name",
         "type": "\"string\""
        }
       ],
       "type": "table"
      }
     },
     "output_type": "display_data"
    }
   ],
   "source": [
    "df_pro = spark.createDataFrame(pro_data, pro_schema)\n",
    "df_pro.display()\n"
   ]
  },
  {
   "cell_type": "markdown",
   "metadata": {
    "application/vnd.databricks.v1+cell": {
     "cellMetadata": {},
     "inputWidgets": {},
     "nuid": "fca18b58-26fe-4b29-baab-c32496b5624a",
     "showTitle": false,
     "tableResultSettingsMap": {},
     "title": ""
    }
   },
   "source": [
    "### Write down the query to fetch Project name assign to more than one Employee"
   ]
  },
  {
   "cell_type": "code",
   "execution_count": 0,
   "metadata": {
    "application/vnd.databricks.v1+cell": {
     "cellMetadata": {
      "byteLimit": 2048000,
      "rowLimit": 10000
     },
     "inputWidgets": {},
     "nuid": "984c770f-5e23-434b-ad5b-5b71b30d6975",
     "showTitle": false,
     "tableResultSettingsMap": {},
     "title": ""
    }
   },
   "outputs": [
    {
     "output_type": "display_data",
     "data": {
      "text/html": [
       "<style scoped>\n",
       "  .table-result-container {\n",
       "    max-height: 300px;\n",
       "    overflow: auto;\n",
       "  }\n",
       "  table, th, td {\n",
       "    border: 1px solid black;\n",
       "    border-collapse: collapse;\n",
       "  }\n",
       "  th, td {\n",
       "    padding: 5px;\n",
       "  }\n",
       "  th {\n",
       "    text-align: left;\n",
       "  }\n",
       "</style><div class='table-result-container'><table class='table-result'><thead style='background-color: white'><tr><th>Project_Name</th><th>count_pro</th></tr></thead><tbody><tr><td>Task Track</td><td>2</td></tr><tr><td>HR Management</td><td>2</td></tr></tbody></table></div>"
      ]
     },
     "metadata": {
      "application/vnd.databricks.v1+output": {
       "addedWidgets": {},
       "aggData": [],
       "aggError": "",
       "aggOverflow": false,
       "aggSchema": [],
       "aggSeriesLimitReached": false,
       "aggType": "",
       "arguments": {},
       "columnCustomDisplayInfos": {},
       "data": [
        [
         "Task Track",
         2
        ],
        [
         "HR Management",
         2
        ]
       ],
       "datasetInfos": [],
       "dbfsResultPath": null,
       "isJsonSchema": true,
       "metadata": {},
       "overflow": false,
       "plotOptions": {
        "customPlotOptions": {},
        "displayType": "table",
        "pivotAggregation": null,
        "pivotColumns": null,
        "xColumns": null,
        "yColumns": null
       },
       "removedWidgets": [],
       "schema": [
        {
         "metadata": "{}",
         "name": "Project_Name",
         "type": "\"string\""
        },
        {
         "metadata": "{}",
         "name": "count_pro",
         "type": "\"long\""
        }
       ],
       "type": "table"
      }
     },
     "output_type": "display_data"
    }
   ],
   "source": [
    "(\n",
    "  df_pro.groupBy(col('Project_Name'))\n",
    "        .agg(\n",
    "          count('*').alias('count_pro')\n",
    "        )\n",
    "        .filter(col('count_pro') > 1)\n",
    "        .display()\n",
    ")"
   ]
  },
  {
   "cell_type": "markdown",
   "metadata": {
    "application/vnd.databricks.v1+cell": {
     "cellMetadata": {},
     "inputWidgets": {},
     "nuid": "9199932f-fbea-4bf5-8aac-18348d540cda",
     "showTitle": false,
     "tableResultSettingsMap": {},
     "title": ""
    }
   },
   "source": [
    "### Get employee name, project name order by firstname from \"EmployeeDetail\" and\"ProjectDetail\" for those employee which have assigned project already."
   ]
  },
  {
   "cell_type": "code",
   "execution_count": 0,
   "metadata": {
    "application/vnd.databricks.v1+cell": {
     "cellMetadata": {
      "byteLimit": 2048000,
      "rowLimit": 10000
     },
     "inputWidgets": {},
     "nuid": "23efe46c-06f5-4a39-95c9-9f9cdd933cc8",
     "showTitle": false,
     "tableResultSettingsMap": {},
     "title": ""
    }
   },
   "outputs": [
    {
     "output_type": "display_data",
     "data": {
      "text/html": [
       "<style scoped>\n",
       "  .table-result-container {\n",
       "    max-height: 300px;\n",
       "    overflow: auto;\n",
       "  }\n",
       "  table, th, td {\n",
       "    border: 1px solid black;\n",
       "    border-collapse: collapse;\n",
       "  }\n",
       "  th, td {\n",
       "    padding: 5px;\n",
       "  }\n",
       "  th {\n",
       "    text-align: left;\n",
       "  }\n",
       "</style><div class='table-result-container'><table class='table-result'><thead style='background-color: white'><tr><th>First_Name</th><th>Project_Name</th></tr></thead><tbody><tr><td>Ashish</td><td>Task Track</td></tr><tr><td>Ashish</td><td>GRS</td></tr><tr><td>Ashish</td><td>DDS</td></tr><tr><td>Nikhil</td><td>HR Management</td></tr><tr><td>Vikas</td><td>Task Track</td></tr><tr><td>Vikas</td><td>CLP</td></tr><tr><td>Vikas</td><td>Survey Management</td></tr><tr><td>nikita</td><td>HR Management</td></tr></tbody></table></div>"
      ]
     },
     "metadata": {
      "application/vnd.databricks.v1+output": {
       "addedWidgets": {},
       "aggData": [],
       "aggError": "",
       "aggOverflow": false,
       "aggSchema": [],
       "aggSeriesLimitReached": false,
       "aggType": "",
       "arguments": {},
       "columnCustomDisplayInfos": {},
       "data": [
        [
         "Ashish",
         "Task Track"
        ],
        [
         "Ashish",
         "GRS"
        ],
        [
         "Ashish",
         "DDS"
        ],
        [
         "Nikhil",
         "HR Management"
        ],
        [
         "Vikas",
         "Task Track"
        ],
        [
         "Vikas",
         "CLP"
        ],
        [
         "Vikas",
         "Survey Management"
        ],
        [
         "nikita",
         "HR Management"
        ]
       ],
       "datasetInfos": [],
       "dbfsResultPath": null,
       "isJsonSchema": true,
       "metadata": {},
       "overflow": false,
       "plotOptions": {
        "customPlotOptions": {},
        "displayType": "table",
        "pivotAggregation": null,
        "pivotColumns": null,
        "xColumns": null,
        "yColumns": null
       },
       "removedWidgets": [],
       "schema": [
        {
         "metadata": "{}",
         "name": "First_Name",
         "type": "\"string\""
        },
        {
         "metadata": "{}",
         "name": "Project_Name",
         "type": "\"string\""
        }
       ],
       "type": "table"
      }
     },
     "output_type": "display_data"
    }
   ],
   "source": [
    "(\n",
    "  df_emp.join(\n",
    "    df_pro\n",
    "    , df_emp['EmployeeID'] == df_pro['Employee_DetailID']\n",
    "    , 'inner'\n",
    "  )\n",
    "  .select(\n",
    "    'First_Name'\n",
    "    , 'Project_Name'\n",
    "  )\n",
    "  .orderBy(col('First_Name').asc())\n",
    "  .display()\n",
    ")"
   ]
  },
  {
   "cell_type": "code",
   "execution_count": 0,
   "metadata": {
    "application/vnd.databricks.v1+cell": {
     "cellMetadata": {},
     "inputWidgets": {},
     "nuid": "f422a825-0998-4f8d-b534-78426f74f952",
     "showTitle": false,
     "tableResultSettingsMap": {},
     "title": ""
    }
   },
   "outputs": [],
   "source": []
  }
 ],
 "metadata": {
  "application/vnd.databricks.v1+notebook": {
   "computePreferences": null,
   "dashboards": [],
   "environmentMetadata": {
    "base_environment": "",
    "client": "1"
   },
   "language": "python",
   "notebookMetadata": {
    "pythonIndentUnit": 4
   },
   "notebookName": "28_Join_in_pyspark",
   "widgets": {}
  }
 },
 "nbformat": 4,
 "nbformat_minor": 0
}
