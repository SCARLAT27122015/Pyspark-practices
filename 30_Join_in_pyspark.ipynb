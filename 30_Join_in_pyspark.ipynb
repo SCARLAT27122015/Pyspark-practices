{
 "cells": [
  {
   "cell_type": "markdown",
   "metadata": {
    "application/vnd.databricks.v1+cell": {
     "cellMetadata": {},
     "inputWidgets": {},
     "nuid": "f97c2da3-7f95-422b-baf7-e5e3c3c48342",
     "showTitle": false,
     "tableResultSettingsMap": {},
     "title": ""
    }
   },
   "source": [
    "# 30_Join_in_pyspark"
   ]
  },
  {
   "cell_type": "markdown",
   "metadata": {
    "application/vnd.databricks.v1+cell": {
     "cellMetadata": {},
     "inputWidgets": {},
     "nuid": "eb1ce261-0817-4126-afbb-2891c83ed45c",
     "showTitle": false,
     "tableResultSettingsMap": {},
     "title": ""
    }
   },
   "source": [
    "Write a pyspark code perform below function \n",
    "* 56. Write a pyspark code to find out the employeename who has not assigned any project, and display \"-No Project Assigned\"( tables :- [EmployeeDetail],[ProjectDetail]). \n",
    "* 57. Write a pyspark code to find out the project name which is not assigned to any employee( tables :- [EmployeeDetail],[ProjectDetail])."
   ]
  },
  {
   "cell_type": "code",
   "execution_count": 0,
   "metadata": {
    "application/vnd.databricks.v1+cell": {
     "cellMetadata": {
      "byteLimit": 2048000,
      "rowLimit": 10000
     },
     "inputWidgets": {},
     "nuid": "701d94fe-8966-4929-a99f-27b655314d0b",
     "showTitle": false,
     "tableResultSettingsMap": {},
     "title": ""
    }
   },
   "outputs": [],
   "source": [
    "from pyspark.sql.functions import *\n",
    "from pyspark.sql.types import *\n",
    "from pyspark.sql.window import *"
   ]
  },
  {
   "cell_type": "code",
   "execution_count": 0,
   "metadata": {
    "application/vnd.databricks.v1+cell": {
     "cellMetadata": {
      "byteLimit": 2048000,
      "rowLimit": 10000
     },
     "inputWidgets": {},
     "nuid": "9231868f-d9a0-48fb-ae73-cba81b0fef13",
     "showTitle": false,
     "tableResultSettingsMap": {},
     "title": ""
    }
   },
   "outputs": [],
   "source": [
    "data = [ [1, \"Vikas\", \"Ahlawat\", 600000.0, \"2013-02-15 11:16:28.290\", \"IT\", \"Male\"], [2, \"nikita\", \"Jain\", 530000.0, \"2014-01-09 17:31:07.793\", \"HR\", \"Female\"], [3, \"Ashish\", \"Kumar\", 1000000.0, \"2014-01-09 10:05:07.793\", \"IT\", \"Male\"], [4, \"Nikhil\", \"Sharma\", 480000.0, \"2014-01-09 09:00:07.793\", \"HR\", \"Male\"], [5, \"anish\", \"kadian\", 500000.0, \"2014-01-09 09:31:07.793\", \"Payroll\", \"Male\"], ]\n",
    "\n",
    "schema = StructType([ StructField(\"EmployeeID\", IntegerType(), True), StructField(\"First_Name\", StringType(), True), StructField(\"Last_Name\", StringType(), True), StructField(\"Salary\", DoubleType(), True), StructField(\"Joining_Date\", StringType(), True), StructField(\"Department\", StringType(), True), StructField(\"Gender\", StringType(), True) ])\n",
    "pro_schema = StructType([ StructField(\"Project_DetailID\", IntegerType(), True), StructField(\"Employee_DetailID\", IntegerType(), True), StructField(\"Project_Name\", StringType(), True) ])\n",
    "\n",
    "pro_data = [ (1, 1, \"Task Track\"), (2, 1, \"CLP\"), (3, 1, \"Survey Management\"), (4, 2, \"HR Management\"), (5, 3, \"Task Track\"), (6, 3, \"GRS\"), (7, 3, \"DDS\"), (8, 4, \"HR Management\"), (9, 6, \"GL Management\") ]"
   ]
  },
  {
   "cell_type": "code",
   "execution_count": 0,
   "metadata": {
    "application/vnd.databricks.v1+cell": {
     "cellMetadata": {
      "byteLimit": 2048000,
      "rowLimit": 10000
     },
     "inputWidgets": {},
     "nuid": "a981131a-f963-4387-8f8f-a782d762d93a",
     "showTitle": false,
     "tableResultSettingsMap": {},
     "title": ""
    }
   },
   "outputs": [
    {
     "output_type": "display_data",
     "data": {
      "text/html": [
       "<style scoped>\n",
       "  .table-result-container {\n",
       "    max-height: 300px;\n",
       "    overflow: auto;\n",
       "  }\n",
       "  table, th, td {\n",
       "    border: 1px solid black;\n",
       "    border-collapse: collapse;\n",
       "  }\n",
       "  th, td {\n",
       "    padding: 5px;\n",
       "  }\n",
       "  th {\n",
       "    text-align: left;\n",
       "  }\n",
       "</style><div class='table-result-container'><table class='table-result'><thead style='background-color: white'><tr><th>EmployeeID</th><th>First_Name</th><th>Last_Name</th><th>Salary</th><th>Joining_Date</th><th>Department</th><th>Gender</th></tr></thead><tbody><tr><td>1</td><td>Vikas</td><td>Ahlawat</td><td>600000.0</td><td>2013-02-15 11:16:28.290</td><td>IT</td><td>Male</td></tr><tr><td>2</td><td>nikita</td><td>Jain</td><td>530000.0</td><td>2014-01-09 17:31:07.793</td><td>HR</td><td>Female</td></tr><tr><td>3</td><td>Ashish</td><td>Kumar</td><td>1000000.0</td><td>2014-01-09 10:05:07.793</td><td>IT</td><td>Male</td></tr><tr><td>4</td><td>Nikhil</td><td>Sharma</td><td>480000.0</td><td>2014-01-09 09:00:07.793</td><td>HR</td><td>Male</td></tr><tr><td>5</td><td>anish</td><td>kadian</td><td>500000.0</td><td>2014-01-09 09:31:07.793</td><td>Payroll</td><td>Male</td></tr></tbody></table></div>"
      ]
     },
     "metadata": {
      "application/vnd.databricks.v1+output": {
       "addedWidgets": {},
       "aggData": [],
       "aggError": "",
       "aggOverflow": false,
       "aggSchema": [],
       "aggSeriesLimitReached": false,
       "aggType": "",
       "arguments": {},
       "columnCustomDisplayInfos": {},
       "data": [
        [
         1,
         "Vikas",
         "Ahlawat",
         600000.0,
         "2013-02-15 11:16:28.290",
         "IT",
         "Male"
        ],
        [
         2,
         "nikita",
         "Jain",
         530000.0,
         "2014-01-09 17:31:07.793",
         "HR",
         "Female"
        ],
        [
         3,
         "Ashish",
         "Kumar",
         1000000.0,
         "2014-01-09 10:05:07.793",
         "IT",
         "Male"
        ],
        [
         4,
         "Nikhil",
         "Sharma",
         480000.0,
         "2014-01-09 09:00:07.793",
         "HR",
         "Male"
        ],
        [
         5,
         "anish",
         "kadian",
         500000.0,
         "2014-01-09 09:31:07.793",
         "Payroll",
         "Male"
        ]
       ],
       "datasetInfos": [],
       "dbfsResultPath": null,
       "isJsonSchema": true,
       "metadata": {},
       "overflow": false,
       "plotOptions": {
        "customPlotOptions": {},
        "displayType": "table",
        "pivotAggregation": null,
        "pivotColumns": null,
        "xColumns": null,
        "yColumns": null
       },
       "removedWidgets": [],
       "schema": [
        {
         "metadata": "{}",
         "name": "EmployeeID",
         "type": "\"integer\""
        },
        {
         "metadata": "{}",
         "name": "First_Name",
         "type": "\"string\""
        },
        {
         "metadata": "{}",
         "name": "Last_Name",
         "type": "\"string\""
        },
        {
         "metadata": "{}",
         "name": "Salary",
         "type": "\"double\""
        },
        {
         "metadata": "{}",
         "name": "Joining_Date",
         "type": "\"string\""
        },
        {
         "metadata": "{}",
         "name": "Department",
         "type": "\"string\""
        },
        {
         "metadata": "{}",
         "name": "Gender",
         "type": "\"string\""
        }
       ],
       "type": "table"
      }
     },
     "output_type": "display_data"
    },
    {
     "output_type": "display_data",
     "data": {
      "text/html": [
       "<style scoped>\n",
       "  .table-result-container {\n",
       "    max-height: 300px;\n",
       "    overflow: auto;\n",
       "  }\n",
       "  table, th, td {\n",
       "    border: 1px solid black;\n",
       "    border-collapse: collapse;\n",
       "  }\n",
       "  th, td {\n",
       "    padding: 5px;\n",
       "  }\n",
       "  th {\n",
       "    text-align: left;\n",
       "  }\n",
       "</style><div class='table-result-container'><table class='table-result'><thead style='background-color: white'><tr><th>Project_DetailID</th><th>Employee_DetailID</th><th>Project_Name</th></tr></thead><tbody><tr><td>1</td><td>1</td><td>Task Track</td></tr><tr><td>2</td><td>1</td><td>CLP</td></tr><tr><td>3</td><td>1</td><td>Survey Management</td></tr><tr><td>4</td><td>2</td><td>HR Management</td></tr><tr><td>5</td><td>3</td><td>Task Track</td></tr><tr><td>6</td><td>3</td><td>GRS</td></tr><tr><td>7</td><td>3</td><td>DDS</td></tr><tr><td>8</td><td>4</td><td>HR Management</td></tr><tr><td>9</td><td>6</td><td>GL Management</td></tr></tbody></table></div>"
      ]
     },
     "metadata": {
      "application/vnd.databricks.v1+output": {
       "addedWidgets": {},
       "aggData": [],
       "aggError": "",
       "aggOverflow": false,
       "aggSchema": [],
       "aggSeriesLimitReached": false,
       "aggType": "",
       "arguments": {},
       "columnCustomDisplayInfos": {},
       "data": [
        [
         1,
         1,
         "Task Track"
        ],
        [
         2,
         1,
         "CLP"
        ],
        [
         3,
         1,
         "Survey Management"
        ],
        [
         4,
         2,
         "HR Management"
        ],
        [
         5,
         3,
         "Task Track"
        ],
        [
         6,
         3,
         "GRS"
        ],
        [
         7,
         3,
         "DDS"
        ],
        [
         8,
         4,
         "HR Management"
        ],
        [
         9,
         6,
         "GL Management"
        ]
       ],
       "datasetInfos": [],
       "dbfsResultPath": null,
       "isJsonSchema": true,
       "metadata": {},
       "overflow": false,
       "plotOptions": {
        "customPlotOptions": {},
        "displayType": "table",
        "pivotAggregation": null,
        "pivotColumns": null,
        "xColumns": null,
        "yColumns": null
       },
       "removedWidgets": [],
       "schema": [
        {
         "metadata": "{}",
         "name": "Project_DetailID",
         "type": "\"integer\""
        },
        {
         "metadata": "{}",
         "name": "Employee_DetailID",
         "type": "\"integer\""
        },
        {
         "metadata": "{}",
         "name": "Project_Name",
         "type": "\"string\""
        }
       ],
       "type": "table"
      }
     },
     "output_type": "display_data"
    }
   ],
   "source": [
    "df_emp = spark.createDataFrame(data, schema)\n",
    "df_pro = spark.createDataFrame(pro_data, pro_schema)\n",
    "\n",
    "df_emp.display()\n",
    "df_pro.display()\n",
    "\n"
   ]
  },
  {
   "cell_type": "markdown",
   "metadata": {
    "application/vnd.databricks.v1+cell": {
     "cellMetadata": {},
     "inputWidgets": {},
     "nuid": "0091e98c-9e03-4e19-aaac-720edcc97fd1",
     "showTitle": false,
     "tableResultSettingsMap": {},
     "title": ""
    }
   },
   "source": [
    "### Write a pyspark code to find out the employeename who has not assigned any project, and display \"-No Project Assigned\"( tables :- [EmployeeDetail],[ProjectDetail])."
   ]
  },
  {
   "cell_type": "code",
   "execution_count": 0,
   "metadata": {
    "application/vnd.databricks.v1+cell": {
     "cellMetadata": {
      "byteLimit": 2048000,
      "rowLimit": 10000
     },
     "inputWidgets": {},
     "nuid": "d5ccf02c-3d1c-4cad-ab14-91bb0c47ecbf",
     "showTitle": false,
     "tableResultSettingsMap": {},
     "title": ""
    }
   },
   "outputs": [
    {
     "output_type": "display_data",
     "data": {
      "text/html": [
       "<style scoped>\n",
       "  .table-result-container {\n",
       "    max-height: 300px;\n",
       "    overflow: auto;\n",
       "  }\n",
       "  table, th, td {\n",
       "    border: 1px solid black;\n",
       "    border-collapse: collapse;\n",
       "  }\n",
       "  th, td {\n",
       "    padding: 5px;\n",
       "  }\n",
       "  th {\n",
       "    text-align: left;\n",
       "  }\n",
       "</style><div class='table-result-container'><table class='table-result'><thead style='background-color: white'><tr><th>First_Name</th><th>Project_Name</th></tr></thead><tbody><tr><td>anish</td><td>No project assigned</td></tr></tbody></table></div>"
      ]
     },
     "metadata": {
      "application/vnd.databricks.v1+output": {
       "addedWidgets": {},
       "aggData": [],
       "aggError": "",
       "aggOverflow": false,
       "aggSchema": [],
       "aggSeriesLimitReached": false,
       "aggType": "",
       "arguments": {},
       "columnCustomDisplayInfos": {},
       "data": [
        [
         "anish",
         "No project assigned"
        ]
       ],
       "datasetInfos": [],
       "dbfsResultPath": null,
       "isJsonSchema": true,
       "metadata": {},
       "overflow": false,
       "plotOptions": {
        "customPlotOptions": {},
        "displayType": "table",
        "pivotAggregation": null,
        "pivotColumns": null,
        "xColumns": null,
        "yColumns": null
       },
       "removedWidgets": [],
       "schema": [
        {
         "metadata": "{}",
         "name": "First_Name",
         "type": "\"string\""
        },
        {
         "metadata": "{}",
         "name": "Project_Name",
         "type": "\"string\""
        }
       ],
       "type": "table"
      }
     },
     "output_type": "display_data"
    }
   ],
   "source": [
    "(\n",
    "  df_emp.join(\n",
    "          df_pro\n",
    "          , df_emp['EmployeeID'] == df_pro['Employee_DetailID']\n",
    "          , 'left'\n",
    "        )\n",
    "        .filter(isnull(col('Employee_DetailID')))\n",
    "        .select(\n",
    "          'First_Name'\n",
    "          , coalesce(col('Project_Name'), lit('No project assigned')).alias('Project_Name')\n",
    "        )\n",
    "        .display()\n",
    ")"
   ]
  },
  {
   "cell_type": "markdown",
   "metadata": {
    "application/vnd.databricks.v1+cell": {
     "cellMetadata": {},
     "inputWidgets": {},
     "nuid": "849a5d7c-01b1-4736-8bfc-9eb70cab2aa4",
     "showTitle": false,
     "tableResultSettingsMap": {},
     "title": ""
    }
   },
   "source": [
    "### Write a pyspark code to find out the project name which is not assigned to any employee( tables :- [EmployeeDetail],[ProjectDetail])."
   ]
  },
  {
   "cell_type": "code",
   "execution_count": 0,
   "metadata": {
    "application/vnd.databricks.v1+cell": {
     "cellMetadata": {
      "byteLimit": 2048000,
      "rowLimit": 10000
     },
     "inputWidgets": {},
     "nuid": "d9afae7b-002e-4e67-82da-f325f9b7a626",
     "showTitle": false,
     "tableResultSettingsMap": {},
     "title": ""
    }
   },
   "outputs": [
    {
     "output_type": "display_data",
     "data": {
      "text/html": [
       "<style scoped>\n",
       "  .table-result-container {\n",
       "    max-height: 300px;\n",
       "    overflow: auto;\n",
       "  }\n",
       "  table, th, td {\n",
       "    border: 1px solid black;\n",
       "    border-collapse: collapse;\n",
       "  }\n",
       "  th, td {\n",
       "    padding: 5px;\n",
       "  }\n",
       "  th {\n",
       "    text-align: left;\n",
       "  }\n",
       "</style><div class='table-result-container'><table class='table-result'><thead style='background-color: white'><tr><th>Project_Name</th></tr></thead><tbody><tr><td>GL Management</td></tr></tbody></table></div>"
      ]
     },
     "metadata": {
      "application/vnd.databricks.v1+output": {
       "addedWidgets": {},
       "aggData": [],
       "aggError": "",
       "aggOverflow": false,
       "aggSchema": [],
       "aggSeriesLimitReached": false,
       "aggType": "",
       "arguments": {},
       "columnCustomDisplayInfos": {},
       "data": [
        [
         "GL Management"
        ]
       ],
       "datasetInfos": [],
       "dbfsResultPath": null,
       "isJsonSchema": true,
       "metadata": {},
       "overflow": false,
       "plotOptions": {
        "customPlotOptions": {},
        "displayType": "table",
        "pivotAggregation": null,
        "pivotColumns": null,
        "xColumns": null,
        "yColumns": null
       },
       "removedWidgets": [],
       "schema": [
        {
         "metadata": "{}",
         "name": "Project_Name",
         "type": "\"string\""
        }
       ],
       "type": "table"
      }
     },
     "output_type": "display_data"
    }
   ],
   "source": [
    "(\n",
    "  df_pro.join(\n",
    "          df_emp\n",
    "          , df_emp['EmployeeID'] == df_pro['Employee_DetailID']\n",
    "          , 'left'\n",
    "        )\n",
    "        .filter(isnull(col('EmployeeID')))\n",
    "        .select('Project_Name')\n",
    "        .display()\n",
    ")"
   ]
  },
  {
   "cell_type": "code",
   "execution_count": 0,
   "metadata": {
    "application/vnd.databricks.v1+cell": {
     "cellMetadata": {},
     "inputWidgets": {},
     "nuid": "9c9112ec-5390-4a89-9f10-6b9226ec8d25",
     "showTitle": false,
     "tableResultSettingsMap": {},
     "title": ""
    }
   },
   "outputs": [],
   "source": []
  }
 ],
 "metadata": {
  "application/vnd.databricks.v1+notebook": {
   "computePreferences": null,
   "dashboards": [],
   "environmentMetadata": {
    "base_environment": "",
    "client": "1"
   },
   "language": "python",
   "notebookMetadata": {
    "pythonIndentUnit": 4
   },
   "notebookName": "30_Join_in_pyspark",
   "widgets": {}
  }
 },
 "nbformat": 4,
 "nbformat_minor": 0
}
